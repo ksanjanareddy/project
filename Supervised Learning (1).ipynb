{
 "cells": [
  {
   "cell_type": "markdown",
   "id": "593895f6",
   "metadata": {},
   "source": [
    "Importing Libraries"
   ]
  },
  {
   "cell_type": "code",
   "execution_count": 1,
   "id": "6626a88c",
   "metadata": {},
   "outputs": [],
   "source": [
    "import matplotlib.pyplot as plt  #plotting graphs\n",
    "import numpy as np\n",
    "import pandas as pd\n",
    "import seaborn as sb\n",
    "from sklearn.linear_model import LogisticRegression # for classification and matrix\n",
    "from sklearn.feature_extraction.text import CountVectorizer\n",
    "from sklearn.model_selection import train_test_split\n",
    "from sklearn.metrics import classification_report, confusion_matrix\n",
    "from sklearn.metrics import confusion_matrix, precision_score, recall_score,roc_curve, auc,accuracy_score,f1_score"
   ]
  },
  {
   "cell_type": "markdown",
   "id": "df43d64b",
   "metadata": {},
   "source": [
    "Extracting Dataset"
   ]
  },
  {
   "cell_type": "code",
   "execution_count": 2,
   "id": "e5627a27",
   "metadata": {},
   "outputs": [],
   "source": [
    "data = pd.read_csv(\"../Data/cleaned_tweets.csv\")"
   ]
  },
  {
   "cell_type": "code",
   "execution_count": 3,
   "id": "ef673a99",
   "metadata": {},
   "outputs": [
    {
     "data": {
      "text/html": [
       "<div>\n",
       "<style scoped>\n",
       "    .dataframe tbody tr th:only-of-type {\n",
       "        vertical-align: middle;\n",
       "    }\n",
       "\n",
       "    .dataframe tbody tr th {\n",
       "        vertical-align: top;\n",
       "    }\n",
       "\n",
       "    .dataframe thead th {\n",
       "        text-align: right;\n",
       "    }\n",
       "</style>\n",
       "<table border=\"1\" class=\"dataframe\">\n",
       "  <thead>\n",
       "    <tr style=\"text-align: right;\">\n",
       "      <th></th>\n",
       "      <th>Unnamed: 0</th>\n",
       "      <th>id</th>\n",
       "      <th>entity</th>\n",
       "      <th>sentiment</th>\n",
       "      <th>tweet</th>\n",
       "    </tr>\n",
       "  </thead>\n",
       "  <tbody>\n",
       "    <tr>\n",
       "      <th>0</th>\n",
       "      <td>0</td>\n",
       "      <td>2401</td>\n",
       "      <td>Borderlands</td>\n",
       "      <td>Positive</td>\n",
       "      <td>['im', 'get', 'borderland', 'murder']</td>\n",
       "    </tr>\n",
       "    <tr>\n",
       "      <th>1</th>\n",
       "      <td>1</td>\n",
       "      <td>2401</td>\n",
       "      <td>Borderlands</td>\n",
       "      <td>Positive</td>\n",
       "      <td>['come', 'border', 'kill']</td>\n",
       "    </tr>\n",
       "    <tr>\n",
       "      <th>2</th>\n",
       "      <td>2</td>\n",
       "      <td>2401</td>\n",
       "      <td>Borderlands</td>\n",
       "      <td>Positive</td>\n",
       "      <td>['im', 'get', 'borderland', 'kill']</td>\n",
       "    </tr>\n",
       "    <tr>\n",
       "      <th>3</th>\n",
       "      <td>3</td>\n",
       "      <td>2401</td>\n",
       "      <td>Borderlands</td>\n",
       "      <td>Positive</td>\n",
       "      <td>['im', 'come', 'borderland', 'murder']</td>\n",
       "    </tr>\n",
       "    <tr>\n",
       "      <th>4</th>\n",
       "      <td>4</td>\n",
       "      <td>2401</td>\n",
       "      <td>Borderlands</td>\n",
       "      <td>Positive</td>\n",
       "      <td>['im', 'get', 'borderland', '2', 'murder']</td>\n",
       "    </tr>\n",
       "  </tbody>\n",
       "</table>\n",
       "</div>"
      ],
      "text/plain": [
       "   Unnamed: 0    id       entity sentiment  \\\n",
       "0           0  2401  Borderlands  Positive   \n",
       "1           1  2401  Borderlands  Positive   \n",
       "2           2  2401  Borderlands  Positive   \n",
       "3           3  2401  Borderlands  Positive   \n",
       "4           4  2401  Borderlands  Positive   \n",
       "\n",
       "                                        tweet  \n",
       "0       ['im', 'get', 'borderland', 'murder']  \n",
       "1                  ['come', 'border', 'kill']  \n",
       "2         ['im', 'get', 'borderland', 'kill']  \n",
       "3      ['im', 'come', 'borderland', 'murder']  \n",
       "4  ['im', 'get', 'borderland', '2', 'murder']  "
      ]
     },
     "execution_count": 3,
     "metadata": {},
     "output_type": "execute_result"
    }
   ],
   "source": [
    "data.head(5)"
   ]
  },
  {
   "cell_type": "code",
   "execution_count": 4,
   "id": "5557a52f",
   "metadata": {},
   "outputs": [
    {
     "name": "stdout",
     "output_type": "stream",
     "text": [
      "(43013, 5)\n",
      "<class 'pandas.core.frame.DataFrame'>\n",
      "RangeIndex: 43013 entries, 0 to 43012\n",
      "Data columns (total 5 columns):\n",
      " #   Column      Non-Null Count  Dtype \n",
      "---  ------      --------------  ----- \n",
      " 0   Unnamed: 0  43013 non-null  int64 \n",
      " 1   id          43013 non-null  int64 \n",
      " 2   entity      43013 non-null  object\n",
      " 3   sentiment   43013 non-null  object\n",
      " 4   tweet       43013 non-null  object\n",
      "dtypes: int64(2), object(3)\n",
      "memory usage: 1.6+ MB\n",
      "None\n"
     ]
    }
   ],
   "source": [
    "print(data.shape)\n",
    "print(data.info())"
   ]
  },
  {
   "cell_type": "markdown",
   "id": "50e67083",
   "metadata": {},
   "source": [
    "Exploratory Data Analysis"
   ]
  },
  {
   "cell_type": "code",
   "execution_count": 5,
   "id": "c20fa8af",
   "metadata": {},
   "outputs": [
    {
     "data": {
      "text/plain": [
       "array(['Positive', 'Negative'], dtype=object)"
      ]
     },
     "execution_count": 5,
     "metadata": {},
     "output_type": "execute_result"
    }
   ],
   "source": [
    "data.sentiment.unique() #two classes for target variable"
   ]
  },
  {
   "cell_type": "code",
   "execution_count": 6,
   "id": "58abae36",
   "metadata": {},
   "outputs": [
    {
     "data": {
      "image/png": "[encoded data removed]",
      "text/plain": [
       "<Figure size 432x288 with 1 Axes>"
      ]
     },
     "metadata": {
      "needs_background": "light"
     },
     "output_type": "display_data"
    }
   ],
   "source": [
    "#distribution of classes in dataset\n",
    "classes = data.sentiment.unique()\n",
    "counts = []\n",
    "for i in classes:\n",
    "    count= len(data[data.sentiment==i])\n",
    "    counts.append(count)\n",
    "plt.bar(['neg','pos'],counts)\n",
    "plt.show()"
   ]
  },
  {
   "cell_type": "code",
   "execution_count": 7,
   "id": "801b82e3",
   "metadata": {
    "scrolled": false
   },
   "outputs": [],
   "source": [
    "#sb.pairplot(data)"
   ]
  },
  {
   "cell_type": "markdown",
   "id": "158877ec",
   "metadata": {},
   "source": [
    "Splitting the Dataset"
   ]
  },
  {
   "cell_type": "code",
   "execution_count": 8,
   "id": "fa14a162",
   "metadata": {},
   "outputs": [],
   "source": [
    "x = data.tweet.values # test column using tweet\n",
    "y = data.sentiment.values #target column\n"
   ]
  },
  {
   "cell_type": "code",
   "execution_count": 9,
   "id": "9d2108c0",
   "metadata": {},
   "outputs": [],
   "source": [
    "x_train, x_test, y_train, y_test = train_test_split(x,y, random_state = 42,test_size= 0.25)\n"
   ]
  },
  {
   "cell_type": "markdown",
   "id": "05383958",
   "metadata": {},
   "source": [
    "Vectorize"
   ]
  },
  {
   "cell_type": "code",
   "execution_count": 10,
   "id": "5d86617f",
   "metadata": {},
   "outputs": [],
   "source": [
    "#tweet data will be indexed\n",
    "vectorizer = CountVectorizer()\n",
    "vectorizer.fit(x_train)\n",
    "\n",
    "vectorizer.fit(x_test)\n",
    "x_train = vectorizer.transform(x_train)\n",
    "x_test = vectorizer.transform(x_test)\n"
   ]
  },
  {
   "cell_type": "code",
   "execution_count": 11,
   "id": "789b2408",
   "metadata": {},
   "outputs": [
    {
     "name": "stdout",
     "output_type": "stream",
     "text": [
      "after vectorising :    (0, 1184)\t1\n",
      "  (0, 1946)\t1\n",
      "  (0, 2008)\t1\n",
      "  (0, 2222)\t1\n",
      "  (0, 2307)\t1\n",
      "  (0, 2371)\t1\n",
      "  (0, 2476)\t1\n",
      "  (0, 5089)\t1\n",
      "  (0, 5120)\t2\n",
      "  (0, 5297)\t1\n",
      "  (0, 5528)\t1\n",
      "  (0, 5562)\t1\n",
      "  (0, 6818)\t2\n",
      "  (0, 7749)\t1\n",
      "  (0, 8031)\t1\n",
      "  (0, 8298)\t1\n",
      "  (0, 8818)\t2\n",
      "  (0, 9138)\t1\n"
     ]
    }
   ],
   "source": [
    "print(\"after vectorising : \" ,x_train[0])"
   ]
  },
  {
   "cell_type": "markdown",
   "id": "640a10bf",
   "metadata": {},
   "source": [
    "Building the MOdel"
   ]
  },
  {
   "cell_type": "code",
   "execution_count": 12,
   "id": "559bd58a",
   "metadata": {},
   "outputs": [
    {
     "data": {
      "text/plain": [
       "LogisticRegression(max_iter=1000)"
      ]
     },
     "execution_count": 12,
     "metadata": {},
     "output_type": "execute_result"
    }
   ],
   "source": [
    "#using logistic regression for binary classification\n",
    "classifier = LogisticRegression (max_iter=1000)\n",
    "classifier.fit(x_train,y_train)"
   ]
  },
  {
   "cell_type": "code",
   "execution_count": 13,
   "id": "9220c81b",
   "metadata": {},
   "outputs": [
    {
     "name": "stdout",
     "output_type": "stream",
     "text": [
      "accuracy 0.8927840803421982\n"
     ]
    }
   ],
   "source": [
    "score = classifier.score(x_test, y_test)\n",
    "print(\"accuracy\", score)"
   ]
  },
  {
   "cell_type": "markdown",
   "id": "ae234b72",
   "metadata": {},
   "source": [
    "Confusion Matrix"
   ]
  },
  {
   "cell_type": "code",
   "execution_count": 14,
   "id": "4139681d",
   "metadata": {},
   "outputs": [
    {
     "data": {
      "image/png": "[encoded data removed]",
      "text/plain": [
       "<Figure size 720x720 with 5 Axes>"
      ]
     },
     "metadata": {
      "needs_background": "light"
     },
     "output_type": "display_data"
    }
   ],
   "source": [
    "#plots\n",
    "# assume y_true is the true labels and y_pred is the predicted labels\n",
    "def row_label(row):\n",
    "    return 1 if row[\"sentiment\"]==\"Positive\" else 0\n",
    "\n",
    "data[\"label\"] = data.apply(row_label, axis=1)\n",
    "# df_tweets[\"tweet\"] = df_tweets.apply(remove_brakets, axis=1)\n",
    "data.drop(\"sentiment\",axis=1, inplace=True)\n",
    "\n",
    "data.drop_duplicates()\n",
    "\n",
    "x = data.tweet.values # test column using tweet\n",
    "y = data.label.values #target column\n",
    "\n",
    "x_train, x_test, y_train, y_test = train_test_split(x,y, random_state = 42,test_size= 0.25)\n",
    "\n",
    "#tweet data will be indexed\n",
    "vectorizer = CountVectorizer()\n",
    "vectorizer.fit(x_train)\n",
    "\n",
    "vectorizer.fit(x_test)\n",
    "x_train = vectorizer.transform(x_train)\n",
    "x_test = vectorizer.transform(x_test)\n",
    "\n",
    "#using logistic regression for binary classification\n",
    "classifier = LogisticRegression (max_iter=1000)\n",
    "classifier.fit(x_train,y_train)\n",
    "\n",
    "#start\n",
    "y_true = np.array(y_test)\n",
    "test_features = x_test\n",
    "predicted_sentiments = classifier.predict(test_features)\n",
    "y_pred = np.array(predicted_sentiments)\n",
    "y_score = classifier.predict_proba(test_features)[:, 1]\n",
    "# calculate confusion matrix\n",
    "cm = confusion_matrix(y_true, y_pred)\n",
    "\n",
    "\n",
    "\n",
    "# create figure with 2 rows and 2 columns of subplots\n",
    "fig, axs = plt.subplots(2, 2, figsize=(10, 10))\n",
    "\n",
    "# plot confusion matrix\n",
    "ax = axs[0,0]\n",
    "im = ax.imshow(cm, interpolation='nearest', cmap=plt.cm.Blues)\n",
    "ax.figure.colorbar(im, ax=ax)\n",
    "ax.set(xticks=np.arange(cm.shape[1]),\n",
    "       yticks=np.arange(cm.shape[0]),\n",
    "       xticklabels=[\"Negative\", \"Positive\"],\n",
    "       yticklabels=[\"Negative\", \"Positive\"],\n",
    "       title=\"Confusion matrix\",\n",
    "       ylabel='True label',\n",
    "       xlabel='Predicted label')\n",
    "plt.setp(ax.get_xticklabels(), rotation=45, ha=\"right\",\n",
    "         rotation_mode=\"anchor\")\n",
    "for i in range(cm.shape[0]):\n",
    "    for j in range(cm.shape[1]):\n",
    "        ax.text(j, i, format(cm[i, j], 'd'),\n",
    "                ha=\"center\", va=\"center\",\n",
    "                color=\"white\" if cm[i, j] > cm.max() / 2. else \"black\")\n",
    "\n",
    "# plot precision,accuracy, F1 and recall\n",
    "# calculate precision and recall\n",
    "precision = precision_score(y_true, y_pred)\n",
    "recall = recall_score(y_true, y_pred)\n",
    "acc = accuracy_score(y_true, y_pred)\n",
    "f1 = f1_score(y_true, y_pred)\n",
    "\n",
    "ax = axs[1,0]\n",
    "ax.bar([\"Precision\", \"Recall\"], [precision, recall])\n",
    "ax.set_ylim(0, 1)\n",
    "ax.set_ylabel(\"Score\")\n",
    "ax.set_title(\"Precision and Recall\")\n",
    "for i, v in enumerate([precision, recall ]):\n",
    "    ax.text(i, v + 0.02, str(round(v, 2)), ha='center')\n",
    "\n",
    "#accuracy, F1\n",
    "ax = axs[1,1]\n",
    "ax.bar([\"Accuracy\" , \"F1-Score\"], [ acc, f1])\n",
    "ax.set_ylim(0, 1)\n",
    "ax.set_ylabel(\"Score\")\n",
    "ax.set_title(\"Accuracy and F1-Score\")\n",
    "for i, v in enumerate([acc, f1]):\n",
    "    ax.text(i, v + 0.02, str(round(v, 2)), ha='center')\n",
    "\n",
    "\n",
    "#ROC Curve\n",
    "\n",
    "\n",
    "# calculate false positive rate (fpr), true positive rate (tpr), and thresholds\n",
    "fpr, tpr, thresholds = roc_curve(y_true, y_score)\n",
    "\n",
    "# calculate area under the curve (AUC)\n",
    "roc_auc = auc(fpr, tpr)\n",
    "\n",
    "# plot ROC curve\n",
    "ax =  axs[0,1]\n",
    "ax.plot(fpr, tpr, color='darkorange', lw=2, label='ROC curve (AUC = %0.2f)' % roc_auc)\n",
    "ax.plot([0, 1], [0, 1], color='navy', lw=2, linestyle='--')\n",
    "ax.set_xlim([0.0, 1.0])\n",
    "ax.set_ylim([0.0, 1.05])\n",
    "ax.set_xlabel('False Positive Rate')\n",
    "ax.set_ylabel('True Positive Rate')\n",
    "ax.set_title('Receiver operating characteristic curve')\n",
    "ax.legend(loc=\"lower right\")\n",
    "\n",
    "# remove axis labels for the bottom right subplot\n",
    "# axs[1, 1].axis('off')\n",
    "\n",
    "# add a figure title\n",
    "fig.suptitle('Supervised Learning Performace')\n",
    "\n",
    "# adjust subplot spacing and layout\n",
    "fig.tight_layout()\n",
    "\n",
    "# show the plot\n",
    "plt.show()\n",
    "\n"
   ]
  },
  {
   "cell_type": "code",
   "execution_count": 15,
   "id": "b341fbf3",
   "metadata": {},
   "outputs": [],
   "source": [
    "# y_pred =  classifier.predict(x_test)\n",
    "# cm = confusion_matrix(y_test, y_pred, labels = data.sentiment.unique())\n",
    "# data_cm =  pd.DataFrame(cm, index = data.sentiment.unique(), columns = data.sentiment.unique()) \n",
    "# data_cm"
   ]
  },
  {
   "cell_type": "markdown",
   "id": "ce0dd4ce",
   "metadata": {},
   "source": [
    "Percentage Representation"
   ]
  },
  {
   "cell_type": "code",
   "execution_count": 16,
   "id": "11cd93a6",
   "metadata": {},
   "outputs": [],
   "source": [
    "# data_cm_percentage = data_cm.copy()\n",
    "# for i in data_cm_percentage:\n",
    "#     data_cm_percentage[i] = data_cm_percentage[i] /data_cm_percentage[i].sum()\n",
    "    \n",
    "# data_cm_percentage\n"
   ]
  },
  {
   "cell_type": "code",
   "execution_count": 17,
   "id": "d153e4fe",
   "metadata": {},
   "outputs": [],
   "source": [
    "# x_test"
   ]
  },
  {
   "cell_type": "markdown",
   "id": "ade9cd81",
   "metadata": {},
   "source": [
    "Testing"
   ]
  },
  {
   "cell_type": "code",
   "execution_count": 18,
   "id": "cf551e56",
   "metadata": {},
   "outputs": [],
   "source": [
    "# tweet = 'Well done, Congrats'\n",
    "# vectTweet =  vectorizer.transform(np.array([tweet ])) #vectorize the tweet using the vectorizer \n",
    "# prediction = classifier.predict(vectTweet) #to predict the class of the tweet \n",
    "# print('Tweet is','positive' if prediction[0]== \"Positive\" else 'negative')\n",
    "      "
   ]
  }
 ],
 "metadata": {
  "kernelspec": {
   "display_name": "Python 3 (ipykernel)",
   "language": "python",
   "name": "python3"
  },
  "language_info": {
   "codemirror_mode": {
    "name": "ipython",
    "version": 3
   },
   "file_extension": ".py",
   "mimetype": "text/x-python",
   "name": "python",
   "nbconvert_exporter": "python",
   "pygments_lexer": "ipython3",
   "version": "3.8.8"
  }
 },
 "nbformat": 4,
 "nbformat_minor": 5
}
