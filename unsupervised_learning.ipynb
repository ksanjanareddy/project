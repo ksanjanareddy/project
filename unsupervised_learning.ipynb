{
 "cells": [
  {
   "cell_type": "code",
   "execution_count": 1,
   "id": "a1b0f43c-ee08-442d-a621-d2333b6aa6c3",
   "metadata": {},
   "outputs": [],
   "source": [
    "import pandas as pd\n",
    "import numpy as np\n",
    "import ast"
   ]
  },
  {
   "cell_type": "code",
   "execution_count": 2,
   "id": "119a5db9-50d8-4c8c-8ff0-ad868589500c",
   "metadata": {},
   "outputs": [
    {
     "data": {
      "text/html": [
       "<div>\n",
       "<style scoped>\n",
       "    .dataframe tbody tr th:only-of-type {\n",
       "        vertical-align: middle;\n",
       "    }\n",
       "\n",
       "    .dataframe tbody tr th {\n",
       "        vertical-align: top;\n",
       "    }\n",
       "\n",
       "    .dataframe thead th {\n",
       "        text-align: right;\n",
       "    }\n",
       "</style>\n",
       "<table border=\"1\" class=\"dataframe\">\n",
       "  <thead>\n",
       "    <tr style=\"text-align: right;\">\n",
       "      <th></th>\n",
       "      <th>id</th>\n",
       "      <th>entity</th>\n",
       "      <th>sentiment</th>\n",
       "      <th>tweet</th>\n",
       "    </tr>\n",
       "  </thead>\n",
       "  <tbody>\n",
       "    <tr>\n",
       "      <th>0</th>\n",
       "      <td>2401</td>\n",
       "      <td>Borderlands</td>\n",
       "      <td>Positive</td>\n",
       "      <td>['im', 'get', 'borderland', 'murder']</td>\n",
       "    </tr>\n",
       "    <tr>\n",
       "      <th>1</th>\n",
       "      <td>2401</td>\n",
       "      <td>Borderlands</td>\n",
       "      <td>Positive</td>\n",
       "      <td>['come', 'border', 'kill']</td>\n",
       "    </tr>\n",
       "    <tr>\n",
       "      <th>2</th>\n",
       "      <td>2401</td>\n",
       "      <td>Borderlands</td>\n",
       "      <td>Positive</td>\n",
       "      <td>['im', 'get', 'borderland', 'kill']</td>\n",
       "    </tr>\n",
       "    <tr>\n",
       "      <th>3</th>\n",
       "      <td>2401</td>\n",
       "      <td>Borderlands</td>\n",
       "      <td>Positive</td>\n",
       "      <td>['im', 'come', 'borderland', 'murder']</td>\n",
       "    </tr>\n",
       "    <tr>\n",
       "      <th>4</th>\n",
       "      <td>2401</td>\n",
       "      <td>Borderlands</td>\n",
       "      <td>Positive</td>\n",
       "      <td>['im', 'get', 'borderland', '2', 'murder']</td>\n",
       "    </tr>\n",
       "    <tr>\n",
       "      <th>5</th>\n",
       "      <td>2401</td>\n",
       "      <td>Borderlands</td>\n",
       "      <td>Positive</td>\n",
       "      <td>['im', 'get', 'borderland', 'murder']</td>\n",
       "    </tr>\n",
       "    <tr>\n",
       "      <th>6</th>\n",
       "      <td>2402</td>\n",
       "      <td>Borderlands</td>\n",
       "      <td>Positive</td>\n",
       "      <td>['spent', 'hour', 'make', 'someth', 'fun', '. ...</td>\n",
       "    </tr>\n",
       "    <tr>\n",
       "      <th>7</th>\n",
       "      <td>2402</td>\n",
       "      <td>Borderlands</td>\n",
       "      <td>Positive</td>\n",
       "      <td>['spent', 'coupl', 'hour', 'someth', 'fun', 'k...</td>\n",
       "    </tr>\n",
       "    <tr>\n",
       "      <th>8</th>\n",
       "      <td>2402</td>\n",
       "      <td>Borderlands</td>\n",
       "      <td>Positive</td>\n",
       "      <td>['spent', 'hour', 'someth', 'fun', 'know', \"i'...</td>\n",
       "    </tr>\n",
       "    <tr>\n",
       "      <th>9</th>\n",
       "      <td>2402</td>\n",
       "      <td>Borderlands</td>\n",
       "      <td>Positive</td>\n",
       "      <td>['spent', 'hour', 'make', 'someth', 'fun', '. ...</td>\n",
       "    </tr>\n",
       "    <tr>\n",
       "      <th>10</th>\n",
       "      <td>2402</td>\n",
       "      <td>Borderlands</td>\n",
       "      <td>Positive</td>\n",
       "      <td>['2010', 'spent', 'hour', 'make', 'someth', 'f...</td>\n",
       "    </tr>\n",
       "    <tr>\n",
       "      <th>11</th>\n",
       "      <td>2402</td>\n",
       "      <td>Borderlands</td>\n",
       "      <td>Positive</td>\n",
       "      <td>[]</td>\n",
       "    </tr>\n",
       "    <tr>\n",
       "      <th>12</th>\n",
       "      <td>2404</td>\n",
       "      <td>Borderlands</td>\n",
       "      <td>Positive</td>\n",
       "      <td>['first', 'borderland', 'session', 'long', 'ti...</td>\n",
       "    </tr>\n",
       "    <tr>\n",
       "      <th>13</th>\n",
       "      <td>2404</td>\n",
       "      <td>Borderlands</td>\n",
       "      <td>Positive</td>\n",
       "      <td>['first', 'borderland', 'session', 'long', 'ti...</td>\n",
       "    </tr>\n",
       "    <tr>\n",
       "      <th>14</th>\n",
       "      <td>2404</td>\n",
       "      <td>Borderlands</td>\n",
       "      <td>Positive</td>\n",
       "      <td>['first', 'borderland', 'session', 'long', 'ti...</td>\n",
       "    </tr>\n",
       "    <tr>\n",
       "      <th>15</th>\n",
       "      <td>2404</td>\n",
       "      <td>Borderlands</td>\n",
       "      <td>Positive</td>\n",
       "      <td>['first', 'borderland', 'session', 'long', 'ti...</td>\n",
       "    </tr>\n",
       "    <tr>\n",
       "      <th>16</th>\n",
       "      <td>2404</td>\n",
       "      <td>Borderlands</td>\n",
       "      <td>Positive</td>\n",
       "      <td>['first', 'real', 'borderland', 'session', 'ni...</td>\n",
       "    </tr>\n",
       "    <tr>\n",
       "      <th>17</th>\n",
       "      <td>2404</td>\n",
       "      <td>Borderlands</td>\n",
       "      <td>Positive</td>\n",
       "      <td>['first', 'borderland', 'session', 'hot', 'row...</td>\n",
       "    </tr>\n",
       "    <tr>\n",
       "      <th>18</th>\n",
       "      <td>2405</td>\n",
       "      <td>Borderlands</td>\n",
       "      <td>Negative</td>\n",
       "      <td>['biggest', 'dissappoin', 'life', 'came', 'yea...</td>\n",
       "    </tr>\n",
       "    <tr>\n",
       "      <th>19</th>\n",
       "      <td>2405</td>\n",
       "      <td>Borderlands</td>\n",
       "      <td>Negative</td>\n",
       "      <td>['biggest', 'disappoint', 'life', 'came', 'yea...</td>\n",
       "    </tr>\n",
       "  </tbody>\n",
       "</table>\n",
       "</div>"
      ],
      "text/plain": [
       "      id       entity sentiment  \\\n",
       "0   2401  Borderlands  Positive   \n",
       "1   2401  Borderlands  Positive   \n",
       "2   2401  Borderlands  Positive   \n",
       "3   2401  Borderlands  Positive   \n",
       "4   2401  Borderlands  Positive   \n",
       "5   2401  Borderlands  Positive   \n",
       "6   2402  Borderlands  Positive   \n",
       "7   2402  Borderlands  Positive   \n",
       "8   2402  Borderlands  Positive   \n",
       "9   2402  Borderlands  Positive   \n",
       "10  2402  Borderlands  Positive   \n",
       "11  2402  Borderlands  Positive   \n",
       "12  2404  Borderlands  Positive   \n",
       "13  2404  Borderlands  Positive   \n",
       "14  2404  Borderlands  Positive   \n",
       "15  2404  Borderlands  Positive   \n",
       "16  2404  Borderlands  Positive   \n",
       "17  2404  Borderlands  Positive   \n",
       "18  2405  Borderlands  Negative   \n",
       "19  2405  Borderlands  Negative   \n",
       "\n",
       "                                                tweet  \n",
       "0               ['im', 'get', 'borderland', 'murder']  \n",
       "1                          ['come', 'border', 'kill']  \n",
       "2                 ['im', 'get', 'borderland', 'kill']  \n",
       "3              ['im', 'come', 'borderland', 'murder']  \n",
       "4          ['im', 'get', 'borderland', '2', 'murder']  \n",
       "5               ['im', 'get', 'borderland', 'murder']  \n",
       "6   ['spent', 'hour', 'make', 'someth', 'fun', '. ...  \n",
       "7   ['spent', 'coupl', 'hour', 'someth', 'fun', 'k...  \n",
       "8   ['spent', 'hour', 'someth', 'fun', 'know', \"i'...  \n",
       "9   ['spent', 'hour', 'make', 'someth', 'fun', '. ...  \n",
       "10  ['2010', 'spent', 'hour', 'make', 'someth', 'f...  \n",
       "11                                                 []  \n",
       "12  ['first', 'borderland', 'session', 'long', 'ti...  \n",
       "13  ['first', 'borderland', 'session', 'long', 'ti...  \n",
       "14  ['first', 'borderland', 'session', 'long', 'ti...  \n",
       "15  ['first', 'borderland', 'session', 'long', 'ti...  \n",
       "16  ['first', 'real', 'borderland', 'session', 'ni...  \n",
       "17  ['first', 'borderland', 'session', 'hot', 'row...  \n",
       "18  ['biggest', 'dissappoin', 'life', 'came', 'yea...  \n",
       "19  ['biggest', 'disappoint', 'life', 'came', 'yea...  "
      ]
     },
     "execution_count": 2,
     "metadata": {},
     "output_type": "execute_result"
    }
   ],
   "source": [
    "# Load data from CSV file into Pandas dataframe\n",
    "df_tweets = pd.read_csv(\"../Data/cleaned_tweets.csv\")\n",
    "df_tweets.drop(['Unnamed: 0'], axis=1, inplace=True)\n",
    "df_tweets.head(20)"
   ]
  },
  {
   "cell_type": "code",
   "execution_count": 3,
   "id": "7772380d-88b6-450c-9441-83c52bcebca9",
   "metadata": {},
   "outputs": [],
   "source": [
    "def merge_tweet_tokens(tweet_list):\n",
    "    tweet_list = ast.literal_eval(tweet_list)\n",
    "    return \" \".join(tweet_list)"
   ]
  },
  {
   "cell_type": "code",
   "execution_count": 4,
   "id": "d3fb06b6-cb24-4cf4-8a0c-6fc93c2ff378",
   "metadata": {},
   "outputs": [
    {
     "data": {
      "text/html": [
       "<div>\n",
       "<style scoped>\n",
       "    .dataframe tbody tr th:only-of-type {\n",
       "        vertical-align: middle;\n",
       "    }\n",
       "\n",
       "    .dataframe tbody tr th {\n",
       "        vertical-align: top;\n",
       "    }\n",
       "\n",
       "    .dataframe thead th {\n",
       "        text-align: right;\n",
       "    }\n",
       "</style>\n",
       "<table border=\"1\" class=\"dataframe\">\n",
       "  <thead>\n",
       "    <tr style=\"text-align: right;\">\n",
       "      <th></th>\n",
       "      <th>id</th>\n",
       "      <th>entity</th>\n",
       "      <th>sentiment</th>\n",
       "      <th>tweet</th>\n",
       "    </tr>\n",
       "  </thead>\n",
       "  <tbody>\n",
       "    <tr>\n",
       "      <th>0</th>\n",
       "      <td>2401</td>\n",
       "      <td>Borderlands</td>\n",
       "      <td>Positive</td>\n",
       "      <td>im get borderland murder</td>\n",
       "    </tr>\n",
       "    <tr>\n",
       "      <th>1</th>\n",
       "      <td>2401</td>\n",
       "      <td>Borderlands</td>\n",
       "      <td>Positive</td>\n",
       "      <td>come border kill</td>\n",
       "    </tr>\n",
       "    <tr>\n",
       "      <th>2</th>\n",
       "      <td>2401</td>\n",
       "      <td>Borderlands</td>\n",
       "      <td>Positive</td>\n",
       "      <td>im get borderland kill</td>\n",
       "    </tr>\n",
       "    <tr>\n",
       "      <th>3</th>\n",
       "      <td>2401</td>\n",
       "      <td>Borderlands</td>\n",
       "      <td>Positive</td>\n",
       "      <td>im come borderland murder</td>\n",
       "    </tr>\n",
       "    <tr>\n",
       "      <th>4</th>\n",
       "      <td>2401</td>\n",
       "      <td>Borderlands</td>\n",
       "      <td>Positive</td>\n",
       "      <td>im get borderland 2 murder</td>\n",
       "    </tr>\n",
       "    <tr>\n",
       "      <th>5</th>\n",
       "      <td>2401</td>\n",
       "      <td>Borderlands</td>\n",
       "      <td>Positive</td>\n",
       "      <td>im get borderland murder</td>\n",
       "    </tr>\n",
       "    <tr>\n",
       "      <th>6</th>\n",
       "      <td>2402</td>\n",
       "      <td>Borderlands</td>\n",
       "      <td>Positive</td>\n",
       "      <td>spent hour make someth fun . . . know huge fan...</td>\n",
       "    </tr>\n",
       "    <tr>\n",
       "      <th>7</th>\n",
       "      <td>2402</td>\n",
       "      <td>Borderlands</td>\n",
       "      <td>Positive</td>\n",
       "      <td>spent coupl hour someth fun know i'm huge bord...</td>\n",
       "    </tr>\n",
       "    <tr>\n",
       "      <th>8</th>\n",
       "      <td>2402</td>\n",
       "      <td>Borderlands</td>\n",
       "      <td>Positive</td>\n",
       "      <td>spent hour someth fun know i'm huge borderland...</td>\n",
       "    </tr>\n",
       "    <tr>\n",
       "      <th>9</th>\n",
       "      <td>2402</td>\n",
       "      <td>Borderlands</td>\n",
       "      <td>Positive</td>\n",
       "      <td>spent hour make someth fun . . . know huge rha...</td>\n",
       "    </tr>\n",
       "  </tbody>\n",
       "</table>\n",
       "</div>"
      ],
      "text/plain": [
       "     id       entity sentiment  \\\n",
       "0  2401  Borderlands  Positive   \n",
       "1  2401  Borderlands  Positive   \n",
       "2  2401  Borderlands  Positive   \n",
       "3  2401  Borderlands  Positive   \n",
       "4  2401  Borderlands  Positive   \n",
       "5  2401  Borderlands  Positive   \n",
       "6  2402  Borderlands  Positive   \n",
       "7  2402  Borderlands  Positive   \n",
       "8  2402  Borderlands  Positive   \n",
       "9  2402  Borderlands  Positive   \n",
       "\n",
       "                                               tweet  \n",
       "0                           im get borderland murder  \n",
       "1                                   come border kill  \n",
       "2                             im get borderland kill  \n",
       "3                          im come borderland murder  \n",
       "4                         im get borderland 2 murder  \n",
       "5                           im get borderland murder  \n",
       "6  spent hour make someth fun . . . know huge fan...  \n",
       "7  spent coupl hour someth fun know i'm huge bord...  \n",
       "8  spent hour someth fun know i'm huge borderland...  \n",
       "9  spent hour make someth fun . . . know huge rha...  "
      ]
     },
     "execution_count": 4,
     "metadata": {},
     "output_type": "execute_result"
    }
   ],
   "source": [
    "df_tweets[\"tweet\"] = df_tweets[\"tweet\"].apply(merge_tweet_tokens)\n",
    "df_tweets.head(10)"
   ]
  },
  {
   "cell_type": "code",
   "execution_count": 5,
   "id": "c7d80a4f-1837-4fba-9b00-10d08f13c347",
   "metadata": {},
   "outputs": [
    {
     "data": {
      "text/html": [
       "<div>\n",
       "<style scoped>\n",
       "    .dataframe tbody tr th:only-of-type {\n",
       "        vertical-align: middle;\n",
       "    }\n",
       "\n",
       "    .dataframe tbody tr th {\n",
       "        vertical-align: top;\n",
       "    }\n",
       "\n",
       "    .dataframe thead th {\n",
       "        text-align: right;\n",
       "    }\n",
       "</style>\n",
       "<table border=\"1\" class=\"dataframe\">\n",
       "  <thead>\n",
       "    <tr style=\"text-align: right;\">\n",
       "      <th></th>\n",
       "      <th>id</th>\n",
       "      <th>entity</th>\n",
       "      <th>sentiment</th>\n",
       "      <th>tweet</th>\n",
       "      <th>datapoint_id</th>\n",
       "    </tr>\n",
       "  </thead>\n",
       "  <tbody>\n",
       "    <tr>\n",
       "      <th>0</th>\n",
       "      <td>2401</td>\n",
       "      <td>Borderlands</td>\n",
       "      <td>Positive</td>\n",
       "      <td>im get borderland murder</td>\n",
       "      <td>0</td>\n",
       "    </tr>\n",
       "    <tr>\n",
       "      <th>1</th>\n",
       "      <td>2401</td>\n",
       "      <td>Borderlands</td>\n",
       "      <td>Positive</td>\n",
       "      <td>come border kill</td>\n",
       "      <td>1</td>\n",
       "    </tr>\n",
       "    <tr>\n",
       "      <th>2</th>\n",
       "      <td>2401</td>\n",
       "      <td>Borderlands</td>\n",
       "      <td>Positive</td>\n",
       "      <td>im get borderland kill</td>\n",
       "      <td>2</td>\n",
       "    </tr>\n",
       "    <tr>\n",
       "      <th>3</th>\n",
       "      <td>2401</td>\n",
       "      <td>Borderlands</td>\n",
       "      <td>Positive</td>\n",
       "      <td>im come borderland murder</td>\n",
       "      <td>3</td>\n",
       "    </tr>\n",
       "    <tr>\n",
       "      <th>4</th>\n",
       "      <td>2401</td>\n",
       "      <td>Borderlands</td>\n",
       "      <td>Positive</td>\n",
       "      <td>im get borderland 2 murder</td>\n",
       "      <td>4</td>\n",
       "    </tr>\n",
       "  </tbody>\n",
       "</table>\n",
       "</div>"
      ],
      "text/plain": [
       "     id       entity sentiment                       tweet  datapoint_id\n",
       "0  2401  Borderlands  Positive    im get borderland murder             0\n",
       "1  2401  Borderlands  Positive            come border kill             1\n",
       "2  2401  Borderlands  Positive      im get borderland kill             2\n",
       "3  2401  Borderlands  Positive   im come borderland murder             3\n",
       "4  2401  Borderlands  Positive  im get borderland 2 murder             4"
      ]
     },
     "execution_count": 5,
     "metadata": {},
     "output_type": "execute_result"
    }
   ],
   "source": [
    "df_tweets['datapoint_id'] = df_tweets.index\n",
    "df_tweets.head(5)"
   ]
  },
  {
   "cell_type": "code",
   "execution_count": 6,
   "id": "225f6679-c4df-41f8-bb89-6be18ccc9fe1",
   "metadata": {},
   "outputs": [
    {
     "data": {
      "text/plain": [
       "array(['Positive', 'Negative'], dtype=object)"
      ]
     },
     "execution_count": 6,
     "metadata": {},
     "output_type": "execute_result"
    }
   ],
   "source": [
    "df_tweets['sentiment'].unique()"
   ]
  },
  {
   "cell_type": "code",
   "execution_count": 7,
   "id": "c7ac2f1b-2c5f-4459-8b78-99d847f7a01d",
   "metadata": {},
   "outputs": [
    {
     "data": {
      "text/plain": [
       "43013"
      ]
     },
     "execution_count": 7,
     "metadata": {},
     "output_type": "execute_result"
    }
   ],
   "source": [
    "len(df_tweets)"
   ]
  },
  {
   "cell_type": "code",
   "execution_count": 8,
   "id": "a34f057e-b3df-49e4-a4db-02fb0a3a71f9",
   "metadata": {},
   "outputs": [],
   "source": [
    "# Create list of length 43013 with nested lists of IDs with same class\n",
    "eval_list = []"
   ]
  },
  {
   "cell_type": "code",
   "execution_count": 9,
   "id": "994278d0-442b-4c9e-aa67-b27dee7cbc56",
   "metadata": {},
   "outputs": [],
   "source": [
    "# Create vocabulary(Bag of words)\n",
    "# bag_of_words = []"
   ]
  },
  {
   "cell_type": "code",
   "execution_count": 10,
   "id": "58c0548b-7bf3-4735-8940-70f24016b44e",
   "metadata": {},
   "outputs": [],
   "source": [
    "positive_data_points = list(df_tweets[df_tweets['sentiment'] == 'Positive']['datapoint_id'])"
   ]
  },
  {
   "cell_type": "code",
   "execution_count": 11,
   "id": "c437f479-e236-4881-953d-c9c1a387ef89",
   "metadata": {},
   "outputs": [],
   "source": [
    "negative_data_points = list(df_tweets[df_tweets['sentiment'] == 'Negative']['datapoint_id'])"
   ]
  },
  {
   "cell_type": "code",
   "execution_count": 12,
   "id": "85afb945-b558-4f9d-b97f-d6b0b1b68083",
   "metadata": {},
   "outputs": [],
   "source": [
    "for index, row in df_tweets.iterrows():\n",
    "    temp_arr = []\n",
    "    # current_tweet = ast.literal_eval(row['tweet'])\n",
    "    # current_tweet = [tweet.strip() for tweet in current_tweet]\n",
    "    # bag_of_words.extend(current_tweet)\n",
    "    current_data_point_array = [row['datapoint_id']]\n",
    "    if row['sentiment'] == 'Positive':\n",
    "        temp_arr = list(positive_data_points)\n",
    "    else:\n",
    "        temp_arr = list(negative_data_points)\n",
    "    temp_arr.remove(row['datapoint_id'])\n",
    "    current_data_point_array.extend(temp_arr)\n",
    "    eval_list.append(current_data_point_array)"
   ]
  },
  {
   "cell_type": "code",
   "execution_count": 13,
   "id": "ed29b0bc-5cde-43ca-af78-1683c6d53c51",
   "metadata": {},
   "outputs": [],
   "source": [
    "# bag_of_words = list(set(bag_of_words))\n",
    "# print(bag_of_words[:10])"
   ]
  },
  {
   "cell_type": "code",
   "execution_count": 14,
   "id": "681eae2e-4cc2-4e27-8961-9b6326e6ee32",
   "metadata": {},
   "outputs": [
    {
     "data": {
      "text/plain": [
       "43013"
      ]
     },
     "execution_count": 14,
     "metadata": {},
     "output_type": "execute_result"
    }
   ],
   "source": [
    "len(eval_list)"
   ]
  },
  {
   "cell_type": "code",
   "execution_count": 15,
   "id": "fd93d5b7-c8e9-43e5-bf60-41bbec7e0996",
   "metadata": {},
   "outputs": [
    {
     "data": {
      "text/plain": [
       "0"
      ]
     },
     "execution_count": 15,
     "metadata": {},
     "output_type": "execute_result"
    }
   ],
   "source": [
    "eval_list[1].index(1)"
   ]
  },
  {
   "cell_type": "markdown",
   "id": "d3bef1e3-ec5f-4517-aa11-c77c8a70be5f",
   "metadata": {},
   "source": [
    "### Create a copy of original dataset to perform k-means by removing the labels"
   ]
  },
  {
   "cell_type": "code",
   "execution_count": 16,
   "id": "5378f7ac-2875-4821-83d1-4fa2bc749024",
   "metadata": {},
   "outputs": [],
   "source": [
    "df_kmeans = df_tweets.copy(deep=True)\n",
    "df_kmeans.drop(['sentiment', 'id', 'entity'], axis=1, inplace=True)"
   ]
  },
  {
   "cell_type": "code",
   "execution_count": 17,
   "id": "b2cc89a8-0cb9-4cea-a9ca-efb2d270e3dd",
   "metadata": {},
   "outputs": [
    {
     "data": {
      "text/html": [
       "<div>\n",
       "<style scoped>\n",
       "    .dataframe tbody tr th:only-of-type {\n",
       "        vertical-align: middle;\n",
       "    }\n",
       "\n",
       "    .dataframe tbody tr th {\n",
       "        vertical-align: top;\n",
       "    }\n",
       "\n",
       "    .dataframe thead th {\n",
       "        text-align: right;\n",
       "    }\n",
       "</style>\n",
       "<table border=\"1\" class=\"dataframe\">\n",
       "  <thead>\n",
       "    <tr style=\"text-align: right;\">\n",
       "      <th></th>\n",
       "      <th>tweet</th>\n",
       "      <th>datapoint_id</th>\n",
       "    </tr>\n",
       "  </thead>\n",
       "  <tbody>\n",
       "    <tr>\n",
       "      <th>0</th>\n",
       "      <td>im get borderland murder</td>\n",
       "      <td>0</td>\n",
       "    </tr>\n",
       "    <tr>\n",
       "      <th>1</th>\n",
       "      <td>come border kill</td>\n",
       "      <td>1</td>\n",
       "    </tr>\n",
       "    <tr>\n",
       "      <th>2</th>\n",
       "      <td>im get borderland kill</td>\n",
       "      <td>2</td>\n",
       "    </tr>\n",
       "    <tr>\n",
       "      <th>3</th>\n",
       "      <td>im come borderland murder</td>\n",
       "      <td>3</td>\n",
       "    </tr>\n",
       "    <tr>\n",
       "      <th>4</th>\n",
       "      <td>im get borderland 2 murder</td>\n",
       "      <td>4</td>\n",
       "    </tr>\n",
       "    <tr>\n",
       "      <th>5</th>\n",
       "      <td>im get borderland murder</td>\n",
       "      <td>5</td>\n",
       "    </tr>\n",
       "    <tr>\n",
       "      <th>6</th>\n",
       "      <td>spent hour make someth fun . . . know huge fan...</td>\n",
       "      <td>6</td>\n",
       "    </tr>\n",
       "    <tr>\n",
       "      <th>7</th>\n",
       "      <td>spent coupl hour someth fun know i'm huge bord...</td>\n",
       "      <td>7</td>\n",
       "    </tr>\n",
       "    <tr>\n",
       "      <th>8</th>\n",
       "      <td>spent hour someth fun know i'm huge borderland...</td>\n",
       "      <td>8</td>\n",
       "    </tr>\n",
       "    <tr>\n",
       "      <th>9</th>\n",
       "      <td>spent hour make someth fun . . . know huge rha...</td>\n",
       "      <td>9</td>\n",
       "    </tr>\n",
       "  </tbody>\n",
       "</table>\n",
       "</div>"
      ],
      "text/plain": [
       "                                               tweet  datapoint_id\n",
       "0                           im get borderland murder             0\n",
       "1                                   come border kill             1\n",
       "2                             im get borderland kill             2\n",
       "3                          im come borderland murder             3\n",
       "4                         im get borderland 2 murder             4\n",
       "5                           im get borderland murder             5\n",
       "6  spent hour make someth fun . . . know huge fan...             6\n",
       "7  spent coupl hour someth fun know i'm huge bord...             7\n",
       "8  spent hour someth fun know i'm huge borderland...             8\n",
       "9  spent hour make someth fun . . . know huge rha...             9"
      ]
     },
     "execution_count": 17,
     "metadata": {},
     "output_type": "execute_result"
    }
   ],
   "source": [
    "df_kmeans.head(10)"
   ]
  },
  {
   "cell_type": "code",
   "execution_count": 18,
   "id": "697a9623-ed2e-42c6-b8a4-9806f0ed91b5",
   "metadata": {},
   "outputs": [],
   "source": [
    "from sklearn.feature_extraction.text import TfidfVectorizer\n",
    "from sklearn.cluster import KMeans"
   ]
  },
  {
   "cell_type": "code",
   "execution_count": 19,
   "id": "9deedf57-8ffb-41e6-803e-6e981360a828",
   "metadata": {},
   "outputs": [],
   "source": [
    "# bag_of_words[0:20]"
   ]
  },
  {
   "cell_type": "code",
   "execution_count": 20,
   "id": "02ba6ed6-869d-4b5a-8e90-746ea0f18413",
   "metadata": {},
   "outputs": [],
   "source": [
    "# Considering 3 grams and mimnimum frq as 0\n",
    "tf_idf_vect = TfidfVectorizer(analyzer='word',ngram_range=(2,2), min_df = 0.0001)\n",
    "tf_idf_vect.fit(df_kmeans[\"tweet\"])\n",
    "desc_matrix = tf_idf_vect.transform(df_kmeans[\"tweet\"])"
   ]
  },
  {
   "cell_type": "code",
   "execution_count": 21,
   "id": "b05bfd74-d5fc-4da1-82f7-1065295d36c7",
   "metadata": {},
   "outputs": [],
   "source": [
    "# implement kmeans\n",
    "num_clusters = 2\n",
    "km = KMeans(n_clusters=num_clusters)\n",
    "km.fit(desc_matrix)\n",
    "clusters = km.labels_.tolist()"
   ]
  },
  {
   "cell_type": "code",
   "execution_count": 22,
   "id": "dac7759d-5d6b-4284-9ab5-b9d92dca61dc",
   "metadata": {},
   "outputs": [
    {
     "data": {
      "text/html": [
       "<div>\n",
       "<style scoped>\n",
       "    .dataframe tbody tr th:only-of-type {\n",
       "        vertical-align: middle;\n",
       "    }\n",
       "\n",
       "    .dataframe tbody tr th {\n",
       "        vertical-align: top;\n",
       "    }\n",
       "\n",
       "    .dataframe thead th {\n",
       "        text-align: right;\n",
       "    }\n",
       "</style>\n",
       "<table border=\"1\" class=\"dataframe\">\n",
       "  <thead>\n",
       "    <tr style=\"text-align: right;\">\n",
       "      <th></th>\n",
       "      <th>Tweet</th>\n",
       "      <th>Cluster</th>\n",
       "      <th>Datapoint_Id</th>\n",
       "    </tr>\n",
       "  </thead>\n",
       "  <tbody>\n",
       "    <tr>\n",
       "      <th>1</th>\n",
       "      <td>im get borderland murder</td>\n",
       "      <td>1</td>\n",
       "      <td>0</td>\n",
       "    </tr>\n",
       "    <tr>\n",
       "      <th>1</th>\n",
       "      <td>come border kill</td>\n",
       "      <td>1</td>\n",
       "      <td>1</td>\n",
       "    </tr>\n",
       "    <tr>\n",
       "      <th>1</th>\n",
       "      <td>im get borderland kill</td>\n",
       "      <td>1</td>\n",
       "      <td>2</td>\n",
       "    </tr>\n",
       "    <tr>\n",
       "      <th>1</th>\n",
       "      <td>im come borderland murder</td>\n",
       "      <td>1</td>\n",
       "      <td>3</td>\n",
       "    </tr>\n",
       "    <tr>\n",
       "      <th>1</th>\n",
       "      <td>im get borderland 2 murder</td>\n",
       "      <td>1</td>\n",
       "      <td>4</td>\n",
       "    </tr>\n",
       "    <tr>\n",
       "      <th>...</th>\n",
       "      <td>...</td>\n",
       "      <td>...</td>\n",
       "      <td>...</td>\n",
       "    </tr>\n",
       "    <tr>\n",
       "      <th>1</th>\n",
       "      <td>realiz window partit mac like 6 year behind nv...</td>\n",
       "      <td>1</td>\n",
       "      <td>43008</td>\n",
       "    </tr>\n",
       "    <tr>\n",
       "      <th>1</th>\n",
       "      <td>realiz mac window partit 6 year behind nvidia ...</td>\n",
       "      <td>1</td>\n",
       "      <td>43009</td>\n",
       "    </tr>\n",
       "    <tr>\n",
       "      <th>1</th>\n",
       "      <td>realiz window partit mac 6 year behind nvidia ...</td>\n",
       "      <td>1</td>\n",
       "      <td>43010</td>\n",
       "    </tr>\n",
       "    <tr>\n",
       "      <th>1</th>\n",
       "      <td>realiz window partit mac like 6 year behind nv...</td>\n",
       "      <td>1</td>\n",
       "      <td>43011</td>\n",
       "    </tr>\n",
       "    <tr>\n",
       "      <th>1</th>\n",
       "      <td>like window partit mac like 6 year behind driv...</td>\n",
       "      <td>1</td>\n",
       "      <td>43012</td>\n",
       "    </tr>\n",
       "  </tbody>\n",
       "</table>\n",
       "<p>43013 rows × 3 columns</p>\n",
       "</div>"
      ],
      "text/plain": [
       "                                                Tweet  Cluster  Datapoint_Id\n",
       "1                            im get borderland murder        1             0\n",
       "1                                    come border kill        1             1\n",
       "1                              im get borderland kill        1             2\n",
       "1                           im come borderland murder        1             3\n",
       "1                          im get borderland 2 murder        1             4\n",
       "..                                                ...      ...           ...\n",
       "1   realiz window partit mac like 6 year behind nv...        1         43008\n",
       "1   realiz mac window partit 6 year behind nvidia ...        1         43009\n",
       "1   realiz window partit mac 6 year behind nvidia ...        1         43010\n",
       "1   realiz window partit mac like 6 year behind nv...        1         43011\n",
       "1   like window partit mac like 6 year behind driv...        1         43012\n",
       "\n",
       "[43013 rows x 3 columns]"
      ]
     },
     "execution_count": 22,
     "metadata": {},
     "output_type": "execute_result"
    }
   ],
   "source": [
    "\n",
    "# create DataFrame films from all of the input files.\n",
    "tweets = {'Tweet': df_kmeans[\"tweet\"].tolist(), 'Cluster': clusters, 'Datapoint_Id': df_kmeans[\"datapoint_id\"].tolist()}\n",
    "frame = pd.DataFrame(tweets, index = [clusters])\n",
    "frame"
   ]
  },
  {
   "cell_type": "code",
   "execution_count": 23,
   "id": "da94c8bb-6bec-40eb-9903-37524030b5a6",
   "metadata": {},
   "outputs": [],
   "source": [
    "cluster_zero_len = len(frame[frame['Cluster'] == 0])\n",
    "cluster_one_len = len(frame[frame['Cluster'] == 1])"
   ]
  },
  {
   "cell_type": "code",
   "execution_count": 24,
   "id": "592f53eb-dab3-4f55-8976-713983c4db7c",
   "metadata": {},
   "outputs": [],
   "source": [
    "# tfidf_vectorizer = TfidfVectorizer()\n",
    "# tfidf = tfidf_vectorizer.fit_transform(bag_of_words)\n",
    "\n",
    "# kmeans = KMeans(n_clusters=2).fit(tfidf)"
   ]
  },
  {
   "cell_type": "code",
   "execution_count": 25,
   "id": "97f2c87e-b633-4b3c-ad43-ffcb4ac1aa94",
   "metadata": {},
   "outputs": [],
   "source": [
    "# lines_for_predicting =  # [\"I'm infected with covid19\", \"I like borderlands\"]\n",
    "# kmeans.predict(tfidf_vectorizer.transform(lines_for_predicting))"
   ]
  },
  {
   "cell_type": "code",
   "execution_count": 26,
   "id": "342254f5-e883-4488-8e9e-dc018d3fdc1c",
   "metadata": {},
   "outputs": [],
   "source": [
    "import matplotlib.pyplot as plt"
   ]
  },
  {
   "cell_type": "code",
   "execution_count": 27,
   "id": "2116a0a9-4723-4d26-85d6-501aa220b9f0",
   "metadata": {},
   "outputs": [
    {
     "data": {
      "text/plain": [
       "([<matplotlib.patches.Wedge at 0x7ff49ce09cd0>,\n",
       "  <matplotlib.patches.Wedge at 0x7ff49ce2f0d0>],\n",
       " [Text(1.0857268547710228, 0.17662728223301888, 'Cluster 0'),\n",
       "  Text(-1.0857268485696323, -0.1766273203529251, 'Cluster 1')])"
      ]
     },
     "execution_count": 27,
     "metadata": {},
     "output_type": "execute_result"
    },
    {
     "data": {
      "image/png": "[encoded data removed]",
      "text/plain": [
       "<Figure size 432x288 with 1 Axes>"
      ]
     },
     "metadata": {},
     "output_type": "display_data"
    }
   ],
   "source": [
    "labels = 'Cluster 0', 'Cluster 1'\n",
    "sizes = [cluster_zero_len, cluster_one_len]\n",
    "\n",
    "fig, ax = plt.subplots()\n",
    "ax.pie(sizes, labels=labels)"
   ]
  },
  {
   "cell_type": "code",
   "execution_count": 28,
   "id": "61c1eb4e-f260-4653-96c1-eec1d47f2bc4",
   "metadata": {},
   "outputs": [
    {
     "data": {
      "text/plain": [
       "40805"
      ]
     },
     "execution_count": 28,
     "metadata": {},
     "output_type": "execute_result"
    }
   ],
   "source": [
    "cluster_one_len"
   ]
  },
  {
   "cell_type": "code",
   "execution_count": 29,
   "id": "c4cb267b-1381-4a5a-8f68-0c83ab0d6272",
   "metadata": {},
   "outputs": [
    {
     "data": {
      "text/plain": [
       "'Positive'"
      ]
     },
     "execution_count": 29,
     "metadata": {},
     "output_type": "execute_result"
    }
   ],
   "source": [
    "sent = df_tweets[df_tweets['datapoint_id'] == 0]['sentiment'][0]\n",
    "sent"
   ]
  },
  {
   "cell_type": "code",
   "execution_count": null,
   "id": "0b68d9c8-9647-4112-a07a-8bd8fb558110",
   "metadata": {},
   "outputs": [
    {
     "name": "stdout",
     "output_type": "stream",
     "text": [
      "1.0\n",
      "2.0\n",
      "3.0\n",
      "4.0\n",
      "5.0\n",
      "6.0\n",
      "7.0\n",
      "8.0\n",
      "9.0\n",
      "10.0\n",
      "11.0\n",
      "12.0\n",
      "13.0\n",
      "14.0\n",
      "15.0\n",
      "16.0\n",
      "17.0\n",
      "18.0\n",
      "18.0\n",
      "18.0\n",
      "18.0\n",
      "18.0\n",
      "18.0\n",
      "18.0\n",
      "19.0\n"
     ]
    }
   ],
   "source": [
    "sum_of_accuracies = 0\n",
    "total_true_clusters = len(eval_list)\n",
    "count = 0\n",
    "for index, tweet_cluster in enumerate(eval_list):\n",
    "    current_true_sent = df_tweets[df_tweets['datapoint_id'] == 0]['sentiment'][0]\n",
    "    truly_clustered_tweet_count = 0\n",
    "    for tweet_id in tweet_cluster:\n",
    "        # Calculate the percentage of all tweets that belong to the same cluster as the first tweet\n",
    "        current_tweet_sent = df_tweets[df_tweets['datapoint_id'] == tweet_id]['sentiment'].tolist()[0]\n",
    "        if current_tweet_sent == current_true_sent:\n",
    "            truly_clustered_tweet_count += 1\n",
    "    current_cluster_length = len(tweet_cluster)\n",
    "    current_cluster_accuracy = truly_clustered_tweet_count/current_cluster_length\n",
    "    sum_of_accuracies += current_cluster_accuracy\n",
    "    if count < 25:\n",
    "        print(sum_of_accuracies)\n",
    "    count += 1"
   ]
  },
  {
   "cell_type": "code",
   "execution_count": null,
   "id": "f8345ed2-090f-4598-a8f3-849857bfd78f",
   "metadata": {},
   "outputs": [],
   "source": [
    "print(sum_of_accuracies)"
   ]
  },
  {
   "cell_type": "code",
   "execution_count": null,
   "id": "abd5b5e7-9be6-47f6-8076-8f00ca6905f8",
   "metadata": {},
   "outputs": [],
   "source": [
    "mean_accuracy = sum_of_accuracies/total_true_clusters\n",
    "print(mean_accuracy)"
   ]
  },
  {
   "cell_type": "code",
   "execution_count": null,
   "id": "f8d3e289-8f8f-4440-849e-3406932386c2",
   "metadata": {},
   "outputs": [],
   "source": []
  }
 ],
 "metadata": {
  "kernelspec": {
   "display_name": "Python 3 (ipykernel)",
   "language": "python",
   "name": "python3"
  },
  "language_info": {
   "codemirror_mode": {
    "name": "ipython",
    "version": 3
   },
   "file_extension": ".py",
   "mimetype": "text/x-python",
   "name": "python",
   "nbconvert_exporter": "python",
   "pygments_lexer": "ipython3",
   "version": "3.9.7"
  }
 },
 "nbformat": 4,
 "nbformat_minor": 5
}
